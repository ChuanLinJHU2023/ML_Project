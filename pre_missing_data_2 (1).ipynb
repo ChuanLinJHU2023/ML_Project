{
  "cells": [
    {
      "cell_type": "code",
      "execution_count": 4,
      "metadata": {
        "id": "XKh11foZZmLc"
      },
      "outputs": [],
      "source": [
        "import pandas as pd\n",
        "import numpy as np\n",
        "from sklearn.ensemble import RandomForestClassifier, GradientBoostingClassifier\n",
        "from sklearn.linear_model import LogisticRegression, LinearRegression, BayesianRidge\n",
        "import xgboost as xgb\n",
        "from sklearn.preprocessing import LabelEncoder, StandardScaler, OrdinalEncoder, PolynomialFeatures\n",
        "from sklearn.metrics import accuracy_score, classification_report\n",
        "from sklearn.model_selection import train_test_split\n",
        "from sklearn.experimental import enable_iterative_imputer\n",
        "from sklearn.impute import SimpleImputer, KNNImputer, IterativeImputer\n",
        "from sklearn.ensemble import RandomForestRegressor\n",
        "from sklearn.tree import DecisionTreeRegressor\n",
        "from sklearn.decomposition import PCA\n",
        "from sklearn.feature_selection import SelectKBest, f_classif"
      ]
    },
    {
      "cell_type": "code",
      "execution_count": 5,
      "metadata": {
        "id": "z-pf9TfbZmLd"
      },
      "outputs": [],
      "source": [
        "train_data = pd.read_csv('cirrhosis.csv')"
      ]
    },
    {
      "cell_type": "code",
      "execution_count": 6,
      "metadata": {
        "id": "1w32gwRqZmLd"
      },
      "outputs": [],
      "source": [
        "train_data['Status'] = train_data['Status'].map({'D': 1, 'C': 0, 'CL': 0})\n",
        "le = LabelEncoder()\n",
        "train_data['Sex'] = le.fit_transform(train_data['Sex'])\n",
        "train_data['Drug'] = train_data['Drug'].map({'Placebo':0, 'penicillamine':1})\n",
        "categorical_cols = ['Ascites', 'Hepatomegaly', 'Spiders', 'Edema']\n",
        "for col in categorical_cols:\n",
        "    train_data[col] = train_data[col].map({'Y': 1, 'N': 0, 'S': 0.5}).astype('float64')"
      ]
    },
    {
      "cell_type": "code",
      "execution_count": 7,
      "metadata": {
        "colab": {
          "base_uri": "https://localhost:8080/",
          "height": 711
        },
        "id": "dgr5CODgZmLd",
        "outputId": "8dacaa95-d3f9-4400-b89c-394ba815b16e"
      },
      "outputs": [
        {
          "output_type": "execute_result",
          "data": {
            "text/plain": [
              "ID                 0\n",
              "N_Days             0\n",
              "Status             0\n",
              "Drug             264\n",
              "Age                0\n",
              "Sex                0\n",
              "Ascites          106\n",
              "Hepatomegaly     106\n",
              "Spiders          106\n",
              "Edema              0\n",
              "Bilirubin          0\n",
              "Cholesterol      134\n",
              "Albumin            0\n",
              "Copper           108\n",
              "Alk_Phos         106\n",
              "SGOT             106\n",
              "Tryglicerides    136\n",
              "Platelets         11\n",
              "Prothrombin        2\n",
              "Stage              6\n",
              "dtype: int64"
            ],
            "text/html": [
              "<div>\n",
              "<style scoped>\n",
              "    .dataframe tbody tr th:only-of-type {\n",
              "        vertical-align: middle;\n",
              "    }\n",
              "\n",
              "    .dataframe tbody tr th {\n",
              "        vertical-align: top;\n",
              "    }\n",
              "\n",
              "    .dataframe thead th {\n",
              "        text-align: right;\n",
              "    }\n",
              "</style>\n",
              "<table border=\"1\" class=\"dataframe\">\n",
              "  <thead>\n",
              "    <tr style=\"text-align: right;\">\n",
              "      <th></th>\n",
              "      <th>0</th>\n",
              "    </tr>\n",
              "  </thead>\n",
              "  <tbody>\n",
              "    <tr>\n",
              "      <th>ID</th>\n",
              "      <td>0</td>\n",
              "    </tr>\n",
              "    <tr>\n",
              "      <th>N_Days</th>\n",
              "      <td>0</td>\n",
              "    </tr>\n",
              "    <tr>\n",
              "      <th>Status</th>\n",
              "      <td>0</td>\n",
              "    </tr>\n",
              "    <tr>\n",
              "      <th>Drug</th>\n",
              "      <td>264</td>\n",
              "    </tr>\n",
              "    <tr>\n",
              "      <th>Age</th>\n",
              "      <td>0</td>\n",
              "    </tr>\n",
              "    <tr>\n",
              "      <th>Sex</th>\n",
              "      <td>0</td>\n",
              "    </tr>\n",
              "    <tr>\n",
              "      <th>Ascites</th>\n",
              "      <td>106</td>\n",
              "    </tr>\n",
              "    <tr>\n",
              "      <th>Hepatomegaly</th>\n",
              "      <td>106</td>\n",
              "    </tr>\n",
              "    <tr>\n",
              "      <th>Spiders</th>\n",
              "      <td>106</td>\n",
              "    </tr>\n",
              "    <tr>\n",
              "      <th>Edema</th>\n",
              "      <td>0</td>\n",
              "    </tr>\n",
              "    <tr>\n",
              "      <th>Bilirubin</th>\n",
              "      <td>0</td>\n",
              "    </tr>\n",
              "    <tr>\n",
              "      <th>Cholesterol</th>\n",
              "      <td>134</td>\n",
              "    </tr>\n",
              "    <tr>\n",
              "      <th>Albumin</th>\n",
              "      <td>0</td>\n",
              "    </tr>\n",
              "    <tr>\n",
              "      <th>Copper</th>\n",
              "      <td>108</td>\n",
              "    </tr>\n",
              "    <tr>\n",
              "      <th>Alk_Phos</th>\n",
              "      <td>106</td>\n",
              "    </tr>\n",
              "    <tr>\n",
              "      <th>SGOT</th>\n",
              "      <td>106</td>\n",
              "    </tr>\n",
              "    <tr>\n",
              "      <th>Tryglicerides</th>\n",
              "      <td>136</td>\n",
              "    </tr>\n",
              "    <tr>\n",
              "      <th>Platelets</th>\n",
              "      <td>11</td>\n",
              "    </tr>\n",
              "    <tr>\n",
              "      <th>Prothrombin</th>\n",
              "      <td>2</td>\n",
              "    </tr>\n",
              "    <tr>\n",
              "      <th>Stage</th>\n",
              "      <td>6</td>\n",
              "    </tr>\n",
              "  </tbody>\n",
              "</table>\n",
              "</div><br><label><b>dtype:</b> int64</label>"
            ]
          },
          "metadata": {},
          "execution_count": 7
        }
      ],
      "source": [
        "train_data.isnull().sum()"
      ]
    },
    {
      "cell_type": "code",
      "execution_count": 8,
      "metadata": {
        "id": "PGZL_BngZmLe"
      },
      "outputs": [],
      "source": [
        "models = {\n",
        "    'Random Forest': RandomForestClassifier(random_state=42),\n",
        "    'Gradient Boosting': GradientBoostingClassifier(random_state=42),\n",
        "    'Logistic Regression': LogisticRegression(random_state=42),\n",
        "    'XGBoost': xgb.XGBClassifier(random_state=42)\n",
        "}"
      ]
    },
    {
      "cell_type": "code",
      "execution_count": 9,
      "metadata": {
        "id": "5iZ7__MBZmLe"
      },
      "outputs": [],
      "source": [
        "def train_model(X_train, y_train, X_val, y_val):\n",
        "    scaler = StandardScaler()\n",
        "    num_cols = X_train.select_dtypes(include=['float64', 'int64']).columns\n",
        "    # cat_cols = train_data.select_dtypes(include=['object']).columns\n",
        "    X_train[num_cols] = scaler.fit_transform(X_train[num_cols])\n",
        "    X_val[num_cols] = scaler.fit_transform(X_val[num_cols])\n",
        "    for name, model in models.items():\n",
        "        model.fit(X_train, y_train)\n",
        "        y_pred = model.predict(X_val)\n",
        "        accuracy = accuracy_score(y_val, y_pred)\n",
        "\n",
        "        print(f\"\\n{name} Results:\")\n",
        "        print(f\"Accuracy: {accuracy:.4f}\")"
      ]
    },
    {
      "cell_type": "markdown",
      "metadata": {
        "id": "6YrN48MtZmLe"
      },
      "source": [
        "# 1 Ignore Missing Data"
      ]
    },
    {
      "cell_type": "code",
      "execution_count": 10,
      "metadata": {
        "id": "BoXwqpkXZmLf"
      },
      "outputs": [],
      "source": [
        "train_clean = train_data[train_data.notna().all(axis=1)].copy()\n",
        "X = train_clean.drop(['ID', 'Status'], axis=1)\n",
        "y = train_clean['Status']\n",
        "X_train_clean, X_val_clean, y_train_clean, y_val_clean = train_test_split(X, y, test_size=0.2, random_state=42)"
      ]
    },
    {
      "cell_type": "code",
      "execution_count": 11,
      "metadata": {
        "colab": {
          "base_uri": "https://localhost:8080/"
        },
        "id": "5Ql_o3BUZmLf",
        "outputId": "b4050483-eee3-457b-a1bd-0bfa7e8801ed"
      },
      "outputs": [
        {
          "output_type": "stream",
          "name": "stdout",
          "text": [
            "\n",
            "Random Forest Results:\n",
            "Accuracy: 0.7857\n",
            "\n",
            "Gradient Boosting Results:\n",
            "Accuracy: 0.8571\n",
            "\n",
            "Logistic Regression Results:\n",
            "Accuracy: 0.8214\n",
            "\n",
            "XGBoost Results:\n",
            "Accuracy: 0.8571\n"
          ]
        }
      ],
      "source": [
        "train_model(X_train_clean, y_train_clean, X_val_clean, y_val_clean)"
      ]
    },
    {
      "cell_type": "markdown",
      "metadata": {
        "id": "7pSmOfmfZmLf"
      },
      "source": [
        "# 2 Imputation (BayesianRidge + Categorical Iterative)"
      ]
    },
    {
      "cell_type": "code",
      "execution_count": 12,
      "metadata": {
        "id": "g59f36cWZmLf"
      },
      "outputs": [],
      "source": [
        "train_data_imputed = train_data.copy()"
      ]
    },
    {
      "cell_type": "code",
      "execution_count": 13,
      "metadata": {
        "id": "2jbzCF_oZmLf"
      },
      "outputs": [],
      "source": [
        "median_cols = ['Cholesterol', 'Copper', 'Alk_Phos', 'SGOT', 'Tryglicerides', 'Platelets', 'Prothrombin']\n",
        "mode_cols = ['Stage']\n",
        "\n",
        "median_imputer = SimpleImputer(strategy='median')\n",
        "linear_iterative_imputer = IterativeImputer(estimator = BayesianRidge(), max_iter=10, random_state=0)\n",
        "mode_imputer = SimpleImputer(strategy='most_frequent')\n",
        "\n",
        "train_data_imputed[median_cols] = linear_iterative_imputer.fit_transform(train_data_imputed[median_cols])\n",
        "train_data_imputed[mode_cols] = mode_imputer.fit_transform(train_data_imputed[mode_cols])"
      ]
    },
    {
      "cell_type": "code",
      "execution_count": 14,
      "metadata": {
        "id": "f73rzORjZmLf"
      },
      "outputs": [],
      "source": [
        "missing_cols = ['Drug', 'Ascites', 'Hepatomegaly', 'Spiders']\n",
        "knn_imputer = KNNImputer(n_neighbors=5)\n",
        "categorical_iterative_imputer = IterativeImputer(estimator = DecisionTreeRegressor(), max_iter=10, random_state=0)\n",
        "train_data_imputed[missing_cols] = knn_imputer.fit_transform(train_data_imputed[missing_cols])"
      ]
    },
    {
      "cell_type": "code",
      "execution_count": null,
      "metadata": {
        "id": "KgQXALnnZmLf",
        "outputId": "3a741403-ba67-478c-8b56-a8338e11f86c"
      },
      "outputs": [
        {
          "name": "stdout",
          "output_type": "stream",
          "text": [
            "\n",
            "Random Forest Results:\n",
            "Accuracy: 0.8452\n",
            "\n",
            "Gradient Boosting Results:\n",
            "Accuracy: 0.8333\n",
            "\n",
            "Logistic Regression Results:\n",
            "Accuracy: 0.8571\n",
            "\n",
            "XGBoost Results:\n",
            "Accuracy: 0.8571\n"
          ]
        }
      ],
      "source": [
        "X = train_data_imputed.drop(['ID', 'Status'], axis=1)\n",
        "y = train_data_imputed['Status']\n",
        "X_train_imputed, X_val_imputed, y_train_imputed, y_val_imputed = train_test_split(X, y, test_size=0.2, random_state=42)\n",
        "train_model(X_train_imputed, y_train_imputed, X_val_imputed, y_val_imputed)"
      ]
    },
    {
      "cell_type": "markdown",
      "metadata": {
        "id": "2QqyQtL-ZmLf"
      },
      "source": [
        "# 3 Label Missing"
      ]
    },
    {
      "cell_type": "code",
      "execution_count": null,
      "metadata": {
        "id": "I1vpmSllZmLf"
      },
      "outputs": [],
      "source": [
        "train_data_label = train_data.copy()"
      ]
    },
    {
      "cell_type": "code",
      "execution_count": null,
      "metadata": {
        "id": "gEbYyWrlZmLf"
      },
      "outputs": [],
      "source": [
        "missing_flags = train_data_label.isnull().astype(int).add_suffix('_missing')\n",
        "\n",
        "numeric_cols = ['Age', 'Bilirubin', 'Cholesterol', 'Albumin', 'Copper', 'Alk_Phos', 'SGOT', 'Tryglicerides', 'Platelets', 'Prothrombin']\n",
        "train_data_label[numeric_cols] = train_data_label[numeric_cols].fillna(train_data_label[numeric_cols].median())\n",
        "\n",
        "cat_cols = ['Drug', 'Sex', 'Ascites', 'Hepatomegaly', 'Spiders', 'Edema', 'Stage']\n",
        "train_data_label[cat_cols] = train_data_label[cat_cols].fillna(train_data_label[cat_cols].mode().iloc[0])\n",
        "\n",
        "train_data_label = pd.concat([train_data_label, missing_flags], axis=1)"
      ]
    },
    {
      "cell_type": "code",
      "execution_count": null,
      "metadata": {
        "id": "qgmZIFkDZmLg",
        "outputId": "fc78f2dc-93ec-43cf-afda-4ca9c71f4d2d"
      },
      "outputs": [
        {
          "name": "stdout",
          "output_type": "stream",
          "text": [
            "\n",
            "Random Forest Results:\n",
            "Accuracy: 0.8571\n",
            "\n",
            "Gradient Boosting Results:\n",
            "Accuracy: 0.8333\n",
            "\n",
            "Logistic Regression Results:\n",
            "Accuracy: 0.8095\n",
            "\n",
            "XGBoost Results:\n",
            "Accuracy: 0.8690\n"
          ]
        }
      ],
      "source": [
        "X = train_data_label.drop(['ID', 'Status'], axis=1)\n",
        "y = train_data_label['Status']\n",
        "X_train_label, X_val_label, y_train_label, y_val_label = train_test_split(X, y, test_size=0.2, random_state=42)\n",
        "train_model(X_train_label, y_train_label, X_val_label, y_val_label)"
      ]
    },
    {
      "cell_type": "markdown",
      "metadata": {
        "id": "560VvnSIZmLg"
      },
      "source": [
        "# 4 EM"
      ]
    },
    {
      "cell_type": "code",
      "execution_count": 17,
      "metadata": {
        "id": "8aFa3hzgZmLg"
      },
      "outputs": [],
      "source": [
        "train_data_em = train_data.copy()"
      ]
    },
    {
      "cell_type": "code",
      "execution_count": 18,
      "metadata": {
        "id": "ZdglrQoYZmLg"
      },
      "outputs": [],
      "source": [
        "def em_algorithm(df, max_iter=50, tol=1e-3):\n",
        "    feature_cols = ['Age', 'Sex', 'Ascites', 'Hepatomegaly', 'Spiders', 'Edema',\n",
        "                   'Bilirubin', 'Cholesterol', 'Albumin', 'Copper', 'Alk_Phos',\n",
        "                   'SGOT', 'Tryglicerides', 'Platelets', 'Prothrombin', 'Stage']\n",
        "\n",
        "    df_imputed = df[feature_cols].copy()\n",
        "    numeric_cols = df_imputed.select_dtypes(include=['float64', 'int64']).columns\n",
        "    categorical_cols = df_imputed.select_dtypes(include=['object']).columns\n",
        "\n",
        "    for col in numeric_cols:\n",
        "        df_imputed[col] = df_imputed[col].fillna(df_imputed[col].median())\n",
        "    for col in categorical_cols:\n",
        "        df_imputed[col] = df_imputed[col].fillna(df_imputed[col].mode()[0])\n",
        "\n",
        "    scaler = StandardScaler()\n",
        "    for iteration in range(max_iter):\n",
        "        old_values = df_imputed.copy()\n",
        "\n",
        "        for col in feature_cols:\n",
        "            mask = df[col].isna()\n",
        "            if mask.any():\n",
        "                X = df_imputed.drop(columns=[col])\n",
        "                y = df_imputed[col]\n",
        "                numeric_features = X.select_dtypes(include=['float64', 'int64']).columns\n",
        "                if len(numeric_features) > 0:\n",
        "                    X[numeric_features] = scaler.fit_transform(X[numeric_features])\n",
        "\n",
        "                model = RandomForestRegressor(\n",
        "                    n_estimators=100,\n",
        "                    max_depth=5,\n",
        "                    min_samples_split=5,\n",
        "                    min_samples_leaf=2,\n",
        "                    random_state=42\n",
        "                )\n",
        "                model.fit(X[~mask], y[~mask])\n",
        "                df_imputed.loc[mask, col] = model.predict(X[mask])\n",
        "\n",
        "                if col in ['Sex', 'Drug', 'Ascites', 'Hepatomegaly', 'Spiders', 'Edema', 'Stage']:\n",
        "                    df_imputed[col] = df_imputed[col].round()\n",
        "\n",
        "        numeric_change = np.abs(old_values.select_dtypes(include=['float64', 'int64']) -\n",
        "                              df_imputed.select_dtypes(include=['float64', 'int64'])).max().max()\n",
        "\n",
        "        if numeric_change < tol:\n",
        "            print(f\"Converged after {iteration + 1} iterations\")\n",
        "            break\n",
        "\n",
        "    return df_imputed"
      ]
    },
    {
      "cell_type": "code",
      "execution_count": 21,
      "metadata": {
        "colab": {
          "base_uri": "https://localhost:8080/"
        },
        "id": "p5GsY3MoZmLg",
        "outputId": "2e52d059-2fbd-4ca8-8a8e-2323e9af692d"
      },
      "outputs": [
        {
          "output_type": "stream",
          "name": "stdout",
          "text": [
            "\n",
            "Random Forest Results:\n",
            "Accuracy: 0.8214\n",
            "\n",
            "Gradient Boosting Results:\n",
            "Accuracy: 0.7619\n",
            "\n",
            "Logistic Regression Results:\n",
            "Accuracy: 0.8095\n",
            "\n",
            "XGBoost Results:\n",
            "Accuracy: 0.7976\n"
          ]
        }
      ],
      "source": [
        "X = em_algorithm(train_data_em)\n",
        "y = train_data_em['Status']\n",
        "\n",
        "# Standardization using StandardScaler\n",
        "scaler = StandardScaler()\n",
        "Z = scaler.fit_transform(X)\n",
        "\n",
        "# Apply PCA\n",
        "pca = PCA(n_components=0.8)  # Retain 50% explained variance\n",
        "x_pca = pca.fit_transform(Z)\n",
        "\n",
        "# Convert PCA output to DataFrame\n",
        "x_pca_df = pd.DataFrame(x_pca, columns=[f'PC{i+1}' for i in range(x_pca.shape[1])])\n",
        "\n",
        "# Add selected columns back to the PCA DataFrame\n",
        "# x_pca_df = pd.concat([x_pca_df, X[['Drug', 'Ascites', 'Hepatomegaly', 'Spiders']].reset_index(drop=True)], axis=1)\n",
        "\n",
        "# # Split data into training and validation sets\n",
        "# X_train_imputed, X_val_imputed, y_train_imputed, y_val_imputed = train_test_split(\n",
        "#     x_pca_df, y, test_size=0.2, random_state=42\n",
        "# )\n",
        "\n",
        "X_train_em, X_val_em, y_train_em, y_val_em = train_test_split(x_pca_df, y, test_size=0.2, random_state=42)\n",
        "train_model(X_train_em, y_train_em, X_val_em, y_val_em)"
      ]
    },
    {
      "cell_type": "markdown",
      "source": [
        "\n",
        "\n",
        "# 5 RandomForestRegressor\n"
      ],
      "metadata": {
        "id": "PUzSwlFIe3n7"
      }
    },
    {
      "cell_type": "code",
      "source": [
        "train_randomForest = train_data.copy()"
      ],
      "metadata": {
        "id": "ncgCW-WiasGg"
      },
      "execution_count": 22,
      "outputs": []
    },
    {
      "cell_type": "code",
      "source": [
        "# Separate features and target\n",
        "X = train_randomForest.drop(['ID', 'Status'], axis=1)  # Drop ID and target column 'Status'\n",
        "y = train_randomForest['Status']  # Target column\n",
        "\n",
        "# Encode categorical variables\n",
        "categorical_cols = ['Drug', 'Sex', 'Ascites', 'Hepatomegaly', 'Spiders', 'Edema']\n",
        "for col in categorical_cols:\n",
        "    X[col] = pd.factorize(X[col])[0]  # Encode as integers\n",
        "\n",
        "# Impute missing values via models\n",
        "X_imputed = X.copy()\n",
        "missing_cols = X.columns[X.isnull().any()]  # Identify columns with missing values\n",
        "\n",
        "for col in missing_cols:\n",
        "    missing = X[col].isnull()  # Rows with missing values\n",
        "    not_missing = ~missing     # Rows without missing values\n",
        "\n",
        "    # Train a RandomForestRegressor to predict missing values\n",
        "    regressor = RandomForestRegressor(random_state=42, n_estimators=100)\n",
        "    regressor.fit(X.loc[not_missing].drop(columns=[col]), X.loc[not_missing, col])\n",
        "\n",
        "    # Predict and fill missing values\n",
        "    X_imputed.loc[missing, col] = regressor.predict(X.loc[missing].drop(columns=[col]))\n",
        "\n",
        "\n",
        "X_train_label, X_val_label, y_train_label, y_val_label = train_test_split(X_imputed, y, test_size=0.2, random_state=42)\n",
        "train_model(X_train_label, y_train_label, X_val_label, y_val_label)"
      ],
      "metadata": {
        "colab": {
          "base_uri": "https://localhost:8080/"
        },
        "id": "LLTOOyQPfBlb",
        "outputId": "079e8f37-3d2e-412c-f8d7-577c7ab17edf"
      },
      "execution_count": 23,
      "outputs": [
        {
          "output_type": "stream",
          "name": "stdout",
          "text": [
            "\n",
            "Random Forest Results:\n",
            "Accuracy: 0.7976\n",
            "\n",
            "Gradient Boosting Results:\n",
            "Accuracy: 0.7857\n",
            "\n",
            "Logistic Regression Results:\n",
            "Accuracy: 0.8214\n",
            "\n",
            "XGBoost Results:\n",
            "Accuracy: 0.8333\n"
          ]
        }
      ]
    },
    {
      "cell_type": "markdown",
      "source": [
        "#6 Bayesian Ridge + RandomForest"
      ],
      "metadata": {
        "id": "pEDs7wO7ftBx"
      }
    },
    {
      "cell_type": "code",
      "source": [
        "train_BayesianRidge = train_data.copy()"
      ],
      "metadata": {
        "id": "W_agFp_XfxJ0"
      },
      "execution_count": 26,
      "outputs": []
    },
    {
      "cell_type": "code",
      "source": [
        "numeric_cols = ['Age', 'Bilirubin', 'Cholesterol', 'Albumin', 'Copper', 'Alk_Phos', 'SGOT', 'Platelets', 'Prothrombin']\n",
        "cat_cols = ['Drug', 'Sex', 'Ascites', 'Hepatomegaly', 'Spiders', 'Edema', 'Stage']\n",
        "\n",
        "# Impute Numerical Features using Bayesian Ridge\n",
        "numerical_data = train_BayesianRidge[numeric_cols]\n",
        "iterative_imputer = IterativeImputer(estimator=BayesianRidge(), max_iter=10, random_state=42)\n",
        "numerical_imputed = pd.DataFrame(iterative_imputer.fit_transform(numerical_data), columns=numeric_cols)\n",
        "\n",
        "# Impute Categorical Features using Random Forest\n",
        "categorical_data = train_BayesianRidge[categorical_cols].copy()\n",
        "for col in categorical_cols:\n",
        "    missing = categorical_data[col].isnull()\n",
        "    not_missing = ~missing\n",
        "\n",
        "    # Encode categorical values to integers for RandomForestClassifier\n",
        "    unique_classes = pd.factorize(categorical_data[col])[1]  # Get unique classes (including NaN)\n",
        "    categorical_data[col] = pd.factorize(categorical_data[col])[0]\n",
        "\n",
        "    if missing.sum() > 0:\n",
        "        # Train RandomForestClassifier\n",
        "        clf = RandomForestClassifier(n_estimators=10, random_state=42)\n",
        "        clf.fit(categorical_data.loc[not_missing, :].drop(columns=[col]), categorical_data.loc[not_missing, col])\n",
        "\n",
        "        # Predict missing values\n",
        "        predictions = clf.predict(categorical_data.loc[missing, :].drop(columns=[col]))\n",
        "        categorical_data.loc[missing, col] = predictions\n",
        "\n",
        "    # Decode back to original categories\n",
        "    categorical_data[col] = categorical_data[col].astype(int).map(dict(enumerate(unique_classes)))\n",
        "\n",
        "# Combine Imputed Numerical and Categorical Data\n",
        "imputed_data = pd.concat([numerical_imputed, categorical_data], axis=1)\n",
        "\n",
        "X_train_label, X_val_label, y_train_label, y_val_label = train_test_split(imputed_data, y, test_size=0.2, random_state=42)\n",
        "train_model(X_train_label, y_train_label, X_val_label, y_val_label)"
      ],
      "metadata": {
        "colab": {
          "base_uri": "https://localhost:8080/"
        },
        "id": "0P5MlZrxfjLg",
        "outputId": "0827f173-1cdf-43dd-f06e-9fc01554ca55"
      },
      "execution_count": 35,
      "outputs": [
        {
          "output_type": "stream",
          "name": "stdout",
          "text": [
            "\n",
            "Random Forest Results:\n",
            "Accuracy: 0.8214\n",
            "\n",
            "Gradient Boosting Results:\n",
            "Accuracy: 0.8571\n",
            "\n",
            "Logistic Regression Results:\n",
            "Accuracy: 0.8095\n",
            "\n",
            "XGBoost Results:\n",
            "Accuracy: 0.7857\n"
          ]
        }
      ]
    },
    {
      "cell_type": "code",
      "source": [],
      "metadata": {
        "id": "DgFasczdgyiC"
      },
      "execution_count": null,
      "outputs": []
    }
  ],
  "metadata": {
    "kernelspec": {
      "display_name": "pytorch",
      "language": "python",
      "name": "python3"
    },
    "language_info": {
      "codemirror_mode": {
        "name": "ipython",
        "version": 3
      },
      "file_extension": ".py",
      "mimetype": "text/x-python",
      "name": "python",
      "nbconvert_exporter": "python",
      "pygments_lexer": "ipython3",
      "version": "3.9.16"
    },
    "colab": {
      "provenance": []
    }
  },
  "nbformat": 4,
  "nbformat_minor": 0
}